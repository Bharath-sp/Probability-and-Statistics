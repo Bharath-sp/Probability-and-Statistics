{
 "cells": [
  {
   "cell_type": "markdown",
   "metadata": {},
   "source": [
    "## Roll a 6-sided dice"
   ]
  },
  {
   "cell_type": "code",
   "execution_count": 2,
   "metadata": {},
   "outputs": [],
   "source": [
    "import matplotlib.pyplot as plt\n",
    "import numpy as np"
   ]
  },
  {
   "cell_type": "code",
   "execution_count": 47,
   "metadata": {},
   "outputs": [],
   "source": [
    "#Number of times to roll the dice\n",
    "n=10000\n",
    "\n",
    "#Roll\n",
    "x=np.random.randint(1,7,n)\n",
    "\n",
    "#Count the number of 1,2,3,4,5,6\n",
    "num_ones= np.count_nonzero(x == 1)\n",
    "num_two= np.count_nonzero(x == 2)\n",
    "num_three= np.count_nonzero(x == 3)\n",
    "num_four= np.count_nonzero(x == 4)\n",
    "num_five= np.count_nonzero(x == 5)\n",
    "num_six= np.count_nonzero(x == 6)"
   ]
  },
  {
   "cell_type": "code",
   "execution_count": 48,
   "metadata": {},
   "outputs": [
    {
     "data": {
      "text/plain": [
       "[0, 7, 0, 2000]"
      ]
     },
     "execution_count": 48,
     "metadata": {},
     "output_type": "execute_result"
    },
    {
     "data": {
      "image/png": "[encoded data removed]",
      "text/plain": [
       "<Figure size 432x288 with 1 Axes>"
      ]
     },
     "metadata": {
      "needs_background": "light"
     },
     "output_type": "display_data"
    }
   ],
   "source": [
    "#Plot the histogram\n",
    "plt.hist(x, [1,2,3,4,5,6,7], rwidth=0.85, align='left')\n",
    "\n",
    "#This is to label each bar\n",
    "plt.text(0.75,num_ones+25,num_ones)\n",
    "plt.text(1.75,num_two+25,num_two)\n",
    "plt.text(2.75,num_three+25,num_three)\n",
    "plt.text(3.75,num_four+25,num_four)\n",
    "plt.text(4.75,num_five+25,num_five)\n",
    "plt.text(5.75,num_six+25,num_six)\n",
    "\n",
    "# Add title and axis names\n",
    "plt.title('Dice roll: {0} times'.format(n))\n",
    "plt.ylabel('Number of times')\n",
    "\n",
    "#Set the limit for x and y-axis\n",
    "plt.axis([0, 7, 0, 2000])"
   ]
  },
  {
   "cell_type": "code",
   "execution_count": 68,
   "metadata": {},
   "outputs": [],
   "source": [
    "result=[num_ones, num_two, num_three, num_four, num_five, num_six]\n",
    "proportion=[]"
   ]
  },
  {
   "cell_type": "code",
   "execution_count": 70,
   "metadata": {},
   "outputs": [],
   "source": [
    "for i in result:\n",
    "    proportion.append(i/n)"
   ]
  },
  {
   "cell_type": "code",
   "execution_count": 71,
   "metadata": {},
   "outputs": [
    {
     "data": {
      "text/plain": [
       "[0.1669, 0.1656, 0.1667, 0.1662, 0.1695, 0.1651]"
      ]
     },
     "execution_count": 71,
     "metadata": {},
     "output_type": "execute_result"
    }
   ],
   "source": [
    "proportion"
   ]
  },
  {
   "cell_type": "markdown",
   "metadata": {},
   "source": [
    "An efficient & alternate Method:"
   ]
  },
  {
   "cell_type": "code",
   "execution_count": 72,
   "metadata": {},
   "outputs": [],
   "source": [
    "#Alternate method:\n",
    "value, count=np.unique(x, return_counts=True)\n"
   ]
  },
  {
   "cell_type": "code",
   "execution_count": 73,
   "metadata": {},
   "outputs": [],
   "source": [
    "value_count=zip(value,count)"
   ]
  },
  {
   "cell_type": "code",
   "execution_count": 76,
   "metadata": {},
   "outputs": [],
   "source": [
    "result_table={}\n",
    "for elem in value_count:\n",
    "    result_table[elem[0]]=elem[1]/n"
   ]
  },
  {
   "cell_type": "code",
   "execution_count": 77,
   "metadata": {},
   "outputs": [
    {
     "data": {
      "text/plain": [
       "{1: 0.1669, 2: 0.1656, 3: 0.1667, 4: 0.1662, 5: 0.1695, 6: 0.1651}"
      ]
     },
     "execution_count": 77,
     "metadata": {},
     "output_type": "execute_result"
    }
   ],
   "source": [
    "result_table"
   ]
  },
  {
   "cell_type": "markdown",
   "metadata": {},
   "source": [
    "# The dice is fair!"
   ]
  }
 ],
 "metadata": {
  "kernelspec": {
   "display_name": "Python 3",
   "language": "python",
   "name": "python3"
  },
  "language_info": {
   "codemirror_mode": {
    "name": "ipython",
    "version": 3
   },
   "file_extension": ".py",
   "mimetype": "text/x-python",
   "name": "python",
   "nbconvert_exporter": "python",
   "pygments_lexer": "ipython3",
   "version": "3.7.3"
  }
 },
 "nbformat": 4,
 "nbformat_minor": 2
}
